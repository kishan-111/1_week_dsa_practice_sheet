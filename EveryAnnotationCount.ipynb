{
  "nbformat": 4,
  "nbformat_minor": 0,
  "metadata": {
    "colab": {
      "provenance": [],
      "authorship_tag": "ABX9TyOhmbBhsGfKyGVYehteOyE8",
      "include_colab_link": true
    },
    "kernelspec": {
      "name": "python3",
      "display_name": "Python 3"
    },
    "language_info": {
      "name": "python"
    }
  },
  "cells": [
    {
      "cell_type": "markdown",
      "metadata": {
        "id": "view-in-github",
        "colab_type": "text"
      },
      "source": [
        "<a href=\"https://colab.research.google.com/github/kishan-111/1_week_dsa_practice_sheet/blob/main/EveryAnnotationCount.ipynb\" target=\"_parent\"><img src=\"https://colab.research.google.com/assets/colab-badge.svg\" alt=\"Open In Colab\"/></a>"
      ]
    },
    {
      "cell_type": "code",
      "execution_count": 1,
      "metadata": {
        "colab": {
          "base_uri": "https://localhost:8080/"
        },
        "id": "L60KyvWzCB2t",
        "outputId": "e669ac80-b2cb-4aa9-eef4-1a93f4105c9d"
      },
      "outputs": [
        {
          "output_type": "stream",
          "name": "stdout",
          "text": [
            "Hello World\n"
          ]
        }
      ],
      "source": [
        "def hello():\n",
        "  print(\"Hello World\")\n",
        "\n",
        "hello()"
      ]
    },
    {
      "cell_type": "code",
      "source": [
        "!git clone https://github.com/milesial/Pytorch-UNet.git"
      ],
      "metadata": {
        "colab": {
          "base_uri": "https://localhost:8080/"
        },
        "id": "uKPhfkIdDb1q",
        "outputId": "36de41dc-ffc3-4f9d-9d7f-df716c1a18f3"
      },
      "execution_count": 2,
      "outputs": [
        {
          "output_type": "stream",
          "name": "stdout",
          "text": [
            "Cloning into 'Pytorch-UNet'...\n",
            "remote: Enumerating objects: 608, done.\u001b[K\n",
            "remote: Counting objects: 100% (152/152), done.\u001b[K\n",
            "remote: Compressing objects: 100% (40/40), done.\u001b[K\n",
            "remote: Total 608 (delta 129), reused 112 (delta 112), pack-reused 456\u001b[K\n",
            "Receiving objects: 100% (608/608), 47.42 MiB | 27.65 MiB/s, done.\n",
            "Resolving deltas: 100% (332/332), done.\n"
          ]
        }
      ]
    }
  ]
}